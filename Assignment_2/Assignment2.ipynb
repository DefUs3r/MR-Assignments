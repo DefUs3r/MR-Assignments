{
 "cells": [
  {
   "cell_type": "markdown",
   "metadata": {},
   "source": [
    "# Assignment 2"
   ]
  },
  {
   "cell_type": "code",
   "execution_count": 1,
   "metadata": {},
   "outputs": [],
   "source": [
    "import numpy as np\n",
    "import matplotlib.pyplot as plt\n",
    "import open3d as o3d\n",
    "import copy\n",
    "import os\n",
    "import sys\n",
    "np.set_printoptions(threshold=sys.maxsize)\n",
    "from collections import defaultdict"
   ]
  },
  {
   "cell_type": "markdown",
   "metadata": {},
   "source": [
    "### Point Cloud Registration"
   ]
  },
  {
   "cell_type": "code",
   "execution_count": 2,
   "metadata": {},
   "outputs": [],
   "source": [
    "from utils import readData, readPointCloud\n",
    "from funcs import *"
   ]
  },
  {
   "cell_type": "code",
   "execution_count": 3,
   "metadata": {},
   "outputs": [],
   "source": [
    "def kitti_velodyne_pcl_registration(path_to_pcl, poses, maxFrame, cam_R):\n",
    "    \n",
    "    DownSample = 0.05\n",
    "\n",
    "    for i in range(maxFrame):\n",
    "        \n",
    "        pcl = numpy2open3d_pcl(readPointCloud(os.path.join(path_to_pcl,str(i).zfill(6) + '.bin'))).voxel_down_sample(voxel_size = DownSample)\n",
    "        P_mat = np.reshape(poses[i],(3,4))\n",
    "        \n",
    "        pcl = transform_pcl_to_new_frame(pcl, cam_R)\n",
    "        R,t = get_Rt_from_3_4_projection_matrix(P_mat)\n",
    "        pcl = rotate(pcl, R)\n",
    "        pcl = translate(pcl, t)\n",
    "        pcl = transform_pcl_to_new_frame(pcl, cam_R.T)\n",
    "        \n",
    "        if(i == 0): final_pcl  = pcl\n",
    "        else:\n",
    "            final_pcl = final_pcl + pcl\n",
    "\n",
    "    return final_pcl"
   ]
  },
  {
   "cell_type": "code",
   "execution_count": 4,
   "metadata": {},
   "outputs": [],
   "source": [
    "path_to_pcl =  './dataset/01/'\n",
    "path_to_dataset = './dataset/'\n",
    "poses = readData(path_to_dataset+'01.txt')\n",
    "cam_R = angles2rotmat(-np.pi/2,np.pi/2,0)\n",
    "pcl = kitti_velodyne_pcl_registration(path_to_pcl, poses, 77, cam_R)"
   ]
  },
  {
   "cell_type": "code",
   "execution_count": 5,
   "metadata": {},
   "outputs": [],
   "source": [
    "custom_draw_geometry(pcl, save_name = './Point_Cloud_2_1.jpg')"
   ]
  },
  {
   "cell_type": "markdown",
   "metadata": {},
   "source": [
    "## Occupancy Map Construction"
   ]
  },
  {
   "cell_type": "code",
   "execution_count": 6,
   "metadata": {},
   "outputs": [],
   "source": [
    "def open3d2numpy(pcl):\n",
    "    return np.asarray(pcl.points)\n",
    "    \n",
    "def genOccupancy(path_to_pcl, poses, cam_R, resolution = 5, maxFrame = 77, threshold = 2, threshold_above_road = 0, start = 0, fl = False):\n",
    "    DownSample = 0.05\n",
    "    unique_z_locs = []\n",
    "    for i in range(start,maxFrame,int(maxFrame/resolution)):\n",
    "        pcl = numpy2open3d_pcl(readPointCloud(os.path.join(path_to_pcl,str(i).zfill(6) + '.bin'))).voxel_down_sample(voxel_size = DownSample)\n",
    "        P_mat = np.reshape(poses[i],(3,4))\n",
    "        \n",
    "        pcl = transform_pcl_to_new_frame(pcl, cam_R)\n",
    "        R,t = get_Rt_from_3_4_projection_matrix(P_mat)\n",
    "        pcl = rotate(pcl, R)\n",
    "        pcl = translate(pcl, t)\n",
    "        pcl = transform_pcl_to_new_frame(pcl, cam_R.T)\n",
    "        if(i == 0 or fl): final_pcl  = pcl\n",
    "        else:\n",
    "            final_pcl = final_pcl + pcl\n",
    "\n",
    "    points = np.around(np.asarray(final_pcl.points),2)\n",
    "\n",
    "    points_dict = defaultdict(int)\n",
    "    \n",
    "    for point in points:\n",
    "        if point[2]>threshold_above_road:\n",
    "            points_dict[tuple(point[:2])] += 1\n",
    "    \n",
    "    keys = [key for key in points_dict.keys()]\n",
    "    for key in keys:\n",
    "        if(points_dict[key] < threshold):\n",
    "            _ = points_dict.pop(key,None)\n",
    "    \n",
    "    points = [np.array([key[0],key[1],0]) for key in points_dict.keys()]\n",
    "    final_pcl.points = o3d.utility.Vector3dVector(points)\n",
    "    final_pcl.paint_uniform_color(np.array([1,1,1]))\n",
    "    return final_pcl"
   ]
  },
  {
   "cell_type": "code",
   "execution_count": 7,
   "metadata": {},
   "outputs": [],
   "source": [
    "occ_gen_5 = genOccupancy(path_to_pcl, poses, cam_R, 5)\n",
    "occ_gen_10 = genOccupancy(path_to_pcl, poses, cam_R, 10)\n",
    "occ_gen_15 = genOccupancy(path_to_pcl, poses, cam_R, 15)"
   ]
  },
  {
   "cell_type": "code",
   "execution_count": 10,
   "metadata": {},
   "outputs": [],
   "source": [
    "custom_draw_geometry_with_key_callback(occ_gen_5, './2_2_Occ_Map_05_Frames.jpg')"
   ]
  },
  {
   "cell_type": "code",
   "execution_count": 11,
   "metadata": {},
   "outputs": [],
   "source": [
    "custom_draw_geometry_with_key_callback(occ_gen_10, './2_2_Occ_Map_10_Frames.jpg')"
   ]
  },
  {
   "cell_type": "code",
   "execution_count": 12,
   "metadata": {},
   "outputs": [],
   "source": [
    "custom_draw_geometry_with_key_callback(occ_gen_15, './2_2_Occ_Map_15_Frames.jpg')"
   ]
  },
  {
   "cell_type": "code",
   "execution_count": 17,
   "metadata": {},
   "outputs": [],
   "source": [
    "def save_lidar_occupancy_scans(path_to_pcl, poses, camR, path_to_results, maxFrame, threshold = 2):\n",
    "    try:\n",
    "        os.makedirs(path_to_results)\n",
    "    except OSError:\n",
    "        print('[LOG]: Result Directory already exists.')\n",
    "    for i in range(maxFrame):\n",
    "        pcl = genOccupancy(path_to_pcl, poses, camR, resolution = i+1, maxFrame = i+1, threshold = threshold, start = i, fl = True)\n",
    "        custom_draw_geometry_with_key_callback(pcl, path_to_results+'occ_scan_'+str(i).zfill(2)+'.jpg')\n",
    "        print('[LOG]: Saved file at '+path_to_results+'occ_scan_'+str(i).zfill(2)+'.jpg')"
   ]
  },
  {
   "cell_type": "code",
   "execution_count": 18,
   "metadata": {},
   "outputs": [
    {
     "name": "stdout",
     "output_type": "stream",
     "text": [
      "[LOG]: Result Directory already exists.\n",
      "[LOG]: Saved file at ./Results/occ_scan_00.jpg\n",
      "[LOG]: Saved file at ./Results/occ_scan_01.jpg\n",
      "[LOG]: Saved file at ./Results/occ_scan_02.jpg\n",
      "[LOG]: Saved file at ./Results/occ_scan_03.jpg\n",
      "[LOG]: Saved file at ./Results/occ_scan_04.jpg\n",
      "[LOG]: Saved file at ./Results/occ_scan_05.jpg\n",
      "[LOG]: Saved file at ./Results/occ_scan_06.jpg\n",
      "[LOG]: Saved file at ./Results/occ_scan_07.jpg\n",
      "[LOG]: Saved file at ./Results/occ_scan_08.jpg\n",
      "[LOG]: Saved file at ./Results/occ_scan_09.jpg\n",
      "[LOG]: Saved file at ./Results/occ_scan_10.jpg\n",
      "[LOG]: Saved file at ./Results/occ_scan_11.jpg\n",
      "[LOG]: Saved file at ./Results/occ_scan_12.jpg\n",
      "[LOG]: Saved file at ./Results/occ_scan_13.jpg\n",
      "[LOG]: Saved file at ./Results/occ_scan_14.jpg\n",
      "[LOG]: Saved file at ./Results/occ_scan_15.jpg\n",
      "[LOG]: Saved file at ./Results/occ_scan_16.jpg\n",
      "[LOG]: Saved file at ./Results/occ_scan_17.jpg\n",
      "[LOG]: Saved file at ./Results/occ_scan_18.jpg\n",
      "[LOG]: Saved file at ./Results/occ_scan_19.jpg\n",
      "[LOG]: Saved file at ./Results/occ_scan_20.jpg\n",
      "[LOG]: Saved file at ./Results/occ_scan_21.jpg\n",
      "[LOG]: Saved file at ./Results/occ_scan_22.jpg\n",
      "[LOG]: Saved file at ./Results/occ_scan_23.jpg\n",
      "[LOG]: Saved file at ./Results/occ_scan_24.jpg\n",
      "[LOG]: Saved file at ./Results/occ_scan_25.jpg\n",
      "[LOG]: Saved file at ./Results/occ_scan_26.jpg\n",
      "[LOG]: Saved file at ./Results/occ_scan_27.jpg\n",
      "[LOG]: Saved file at ./Results/occ_scan_28.jpg\n",
      "[LOG]: Saved file at ./Results/occ_scan_29.jpg\n",
      "[LOG]: Saved file at ./Results/occ_scan_30.jpg\n",
      "[LOG]: Saved file at ./Results/occ_scan_31.jpg\n",
      "[LOG]: Saved file at ./Results/occ_scan_32.jpg\n",
      "[LOG]: Saved file at ./Results/occ_scan_33.jpg\n",
      "[LOG]: Saved file at ./Results/occ_scan_34.jpg\n",
      "[LOG]: Saved file at ./Results/occ_scan_35.jpg\n",
      "[LOG]: Saved file at ./Results/occ_scan_36.jpg\n",
      "[LOG]: Saved file at ./Results/occ_scan_37.jpg\n",
      "[LOG]: Saved file at ./Results/occ_scan_38.jpg\n",
      "[LOG]: Saved file at ./Results/occ_scan_39.jpg\n",
      "[LOG]: Saved file at ./Results/occ_scan_40.jpg\n",
      "[LOG]: Saved file at ./Results/occ_scan_41.jpg\n",
      "[LOG]: Saved file at ./Results/occ_scan_42.jpg\n",
      "[LOG]: Saved file at ./Results/occ_scan_43.jpg\n",
      "[LOG]: Saved file at ./Results/occ_scan_44.jpg\n",
      "[LOG]: Saved file at ./Results/occ_scan_45.jpg\n",
      "[LOG]: Saved file at ./Results/occ_scan_46.jpg\n",
      "[LOG]: Saved file at ./Results/occ_scan_47.jpg\n",
      "[LOG]: Saved file at ./Results/occ_scan_48.jpg\n",
      "[LOG]: Saved file at ./Results/occ_scan_49.jpg\n",
      "[LOG]: Saved file at ./Results/occ_scan_50.jpg\n",
      "[LOG]: Saved file at ./Results/occ_scan_51.jpg\n",
      "[LOG]: Saved file at ./Results/occ_scan_52.jpg\n",
      "[LOG]: Saved file at ./Results/occ_scan_53.jpg\n",
      "[LOG]: Saved file at ./Results/occ_scan_54.jpg\n",
      "[LOG]: Saved file at ./Results/occ_scan_55.jpg\n",
      "[LOG]: Saved file at ./Results/occ_scan_56.jpg\n",
      "[LOG]: Saved file at ./Results/occ_scan_57.jpg\n",
      "[LOG]: Saved file at ./Results/occ_scan_58.jpg\n",
      "[LOG]: Saved file at ./Results/occ_scan_59.jpg\n",
      "[LOG]: Saved file at ./Results/occ_scan_60.jpg\n",
      "[LOG]: Saved file at ./Results/occ_scan_61.jpg\n",
      "[LOG]: Saved file at ./Results/occ_scan_62.jpg\n",
      "[LOG]: Saved file at ./Results/occ_scan_63.jpg\n",
      "[LOG]: Saved file at ./Results/occ_scan_64.jpg\n",
      "[LOG]: Saved file at ./Results/occ_scan_65.jpg\n",
      "[LOG]: Saved file at ./Results/occ_scan_66.jpg\n",
      "[LOG]: Saved file at ./Results/occ_scan_67.jpg\n",
      "[LOG]: Saved file at ./Results/occ_scan_68.jpg\n",
      "[LOG]: Saved file at ./Results/occ_scan_69.jpg\n",
      "[LOG]: Saved file at ./Results/occ_scan_70.jpg\n",
      "[LOG]: Saved file at ./Results/occ_scan_71.jpg\n",
      "[LOG]: Saved file at ./Results/occ_scan_72.jpg\n",
      "[LOG]: Saved file at ./Results/occ_scan_73.jpg\n",
      "[LOG]: Saved file at ./Results/occ_scan_74.jpg\n",
      "[LOG]: Saved file at ./Results/occ_scan_75.jpg\n",
      "[LOG]: Saved file at ./Results/occ_scan_76.jpg\n"
     ]
    }
   ],
   "source": [
    "save_lidar_occupancy_scans(path_to_pcl, poses, cam_R, './Results/', 77, threshold = 2)"
   ]
  },
  {
   "cell_type": "code",
   "execution_count": null,
   "metadata": {},
   "outputs": [],
   "source": []
  }
 ],
 "metadata": {
  "kernelspec": {
   "display_name": "Python 3",
   "language": "python",
   "name": "python3"
  },
  "language_info": {
   "codemirror_mode": {
    "name": "ipython",
    "version": 3
   },
   "file_extension": ".py",
   "mimetype": "text/x-python",
   "name": "python",
   "nbconvert_exporter": "python",
   "pygments_lexer": "ipython3",
   "version": "3.8.3"
  }
 },
 "nbformat": 4,
 "nbformat_minor": 4
}
