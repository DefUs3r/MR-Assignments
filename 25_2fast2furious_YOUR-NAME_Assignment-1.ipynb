{
 "cells": [
  {
   "cell_type": "markdown",
   "metadata": {},
   "source": [
    "# Assignment 1: Transformations\n",
    "\n",
    "\n",
    "* TEAM-ID:   25\n",
    "* TEAM-NAME: 2fast2furious\n",
    "* YOUR-ID:   \n",
    "* YOUR-NAME: \n",
    "\n",
    "(Although you work in groups, both the students have to submit to Moodle, hence there's name field above)"
   ]
  },
  {
   "cell_type": "markdown",
   "metadata": {},
   "source": [
    "# Instructions\n",
    "- Please check Moodle for \"TEAM-ID\" and \"TEAM-NAME\" fields above. Some of your names have been edited because of redundancy/simplicity. Instructions for submitting the assignment through GitHub Classrooms/Moodle has been uploaded on Moodle. Any clarifications will be made there itself.\n",
    "- Code must be written in Python in Jupyter Notebooks. We highly recommend using anaconda distribution or at the minimum, virtual environments for this assignment. See `./misc/installation` for detailed step-by-step instructions about the installation setup.\n",
    "- Both the team members must submit the zip file.\n",
    "- For this assignment, you will be using Open3D extensively. Refer to [Open3D Documentation](http://www.open3d.org/docs/release/): you can use the in-built methods and **unless explicitly mentioned**, don't need to code from scratch for this assignment. Make sure your code is modular since you will be reusing them for future assignments.\n",
    "- Take a look at the entire assignment. The descriptive questions at the end might have a clue if you are stuck somewhere.\n",
    "- Answer the descriptive questions in your own words with context & clarity. Do not just copy-paste from some Wikipedia page. You will be evaluated accordingly.\n",
    "- Please call the visualization functions only when they are asked. They are asked explicitly at the end of every section.\n",
    "- You could split the Jupyter Notebook cells where `TODO` is written, but please try to avoid splitting/changing the structure of other cells."
   ]
  },
  {
   "cell_type": "code",
   "execution_count": 1,
   "metadata": {},
   "outputs": [],
   "source": [
    "import open3d as o3d\n",
    "import copy\n",
    "import numpy as np\n",
    "from scipy.linalg import logm\n",
    "from scipy.spatial.transform import Rotation\n",
    "from scipy.optimize import fsolve"
   ]
  },
  {
   "cell_type": "markdown",
   "metadata": {},
   "source": [
    "# 1. Getting started with Open3D\n",
    "## 1.1 Converting RGBD image into Point Cloud\n",
    "\n",
    "\n",
    "In your robotics journey, it is common to be given just the depth images along with camera parameters in a generic dataset and you'd want to build a 3D data representation out of it, for example, a point cloud. You will understand the math behind these concepts in detail during Vision classes, for now, you can use the in-built functions as a black box.\n",
    "- Below are the given RGB and D images from SUN RGB-D dataset ([S.Song, CVPR 2015](https://rgbd.cs.princeton.edu/)). \n",
    "![low-res-RGBD.resized.png](./misc/low-res-RGBD.png)\n",
    "\n",
    "- Read these two images `color.jpg` and `depth.png` given in current folder using Open3D. Convert it to a point cloud using the default camera parameters (`o3d.camera.PinholeCameraIntrinsicParameters.PrimeSenseDefault`).\n",
    "Then,\n",
    "- Create a \"world\" frame $A$ and combine this (just use $+$ operator) with the above point cloud and save it as `scene.pcd`. Put it aside for now.\n",
    "- Write a simple function `one_one` to visualize `scene.pcd`."
   ]
  },
  {
   "cell_type": "code",
   "execution_count": 2,
   "metadata": {},
   "outputs": [],
   "source": [
    "def mesh2pcd(triangle_mesh):\n",
    "    pcd = o3d.geometry.PointCloud()\n",
    "    pcd.points = triangle_mesh.vertices\n",
    "    pcd.colors = triangle_mesh.vertex_colors\n",
    "    pcd.normals = triangle_mesh.vertex_normals\n",
    "    return pcd\n",
    "\n",
    "def custom_draw_geometry(pcd, edit=False):\n",
    "    # The following code achieves the same effect as:\n",
    "    # o3d.visualization.draw_geometries([pcd])\n",
    "    if edit:\n",
    "        vis = o3d.visualization.VisualizerWithEditing()\n",
    "    else:\n",
    "        vis = o3d.visualization.Visualizer()\n",
    "    vis.create_window(width=1280, height=720)\n",
    "    vis.add_geometry(pcd)\n",
    "    vis.run()\n",
    "    vis.destroy_window()\n",
    "    if edit:\n",
    "        return vis.get_picked_points()\n",
    "    else:\n",
    "        return None\n"
   ]
  },
  {
   "cell_type": "code",
   "execution_count": 3,
   "metadata": {},
   "outputs": [],
   "source": [
    "##############################################################################\n",
    "# TODO: Do tasks described in 1.1                                            #\n",
    "##############################################################################\n",
    "\n",
    "ORIGIN_frameA = [5, -3, 5]\n",
    "\n",
    "color = o3d.io.read_image('color.jpg')\n",
    "depth = o3d.io.read_image('depth.png')\n",
    "rgbd_image = o3d.geometry.RGBDImage.create_from_sun_format(color, depth)\n",
    "\n",
    "pcd = o3d.geometry.PointCloud.create_from_rgbd_image(\n",
    "        rgbd_image,\n",
    "        o3d.camera.PinholeCameraIntrinsic(o3d.camera.PinholeCameraIntrinsicParameters.PrimeSenseDefault))\n",
    "\n",
    "pcd.transform([[1, 0, 0, 0], [0, -1, 0, 0], [0, 0, -1, 0], [0, 0, 0, 1]])\n",
    "\n",
    "mesh_frameA = o3d.geometry.TriangleMesh.create_coordinate_frame(\n",
    "        size=0.6, origin=ORIGIN_frameA)\n",
    "\n",
    "pcd_coordinateFrameA = mesh2pcd(mesh_frameA)\n",
    "\n",
    "pcd = pcd + pcd_coordinateFrameA\n",
    "# o3d.visualization.draw_geometries([pcd])\n",
    "o3d.io.write_point_cloud(\"scene.pcd\", pcd)\n",
    "\n",
    "def one_one(pcd_path = 'scene.pcd'):\n",
    "    pcd = o3d.io.read_point_cloud(pcd_path)\n",
    "    custom_draw_geometry(pcd)\n",
    "\n",
    "##############################################################################\n",
    "#                             END OF YOUR CODE                               #\n",
    "##############################################################################"
   ]
  },
  {
   "cell_type": "markdown",
   "metadata": {},
   "source": [
    "### Question for 1.1\n",
    "\n",
    "- In the next code cell, call the function `one_one` here showing `scene.pcd`."
   ]
  },
  {
   "cell_type": "code",
   "execution_count": 4,
   "metadata": {},
   "outputs": [],
   "source": [
    "#uncomment the following and add input parameters if any\n",
    "one_one()"
   ]
  },
  {
   "cell_type": "markdown",
   "metadata": {},
   "source": [
    "# 2. Rotations, Euler angles and Gimbal Lock\n",
    "\n",
    "## 2.1 Rotating an object\n",
    "\n",
    "The objective here is to roughly simulate an object moving on a ground.\n",
    "\n",
    "- Generate a cube at some point on the ground and create another frame $B$ at the center of this object. Combine these both as a single point cloud `cube.pcd`. (You can pick a point on the ground by using the `get_picked_points` method of the class `open3d.visualization.VisualizerWithEditing`.)\n",
    "- Now read both the point clouds `scene.pcd` and `cube.pcd` in a script. Whatever tasks you do below are on the object `cube.pcd` (along with the axes $B$) with `scene.pcd` in the background (static).\n",
    "- Given a sequence of **ZYX Euler** angles $[30^{\\circ}, 90^{\\circ}, 45^{\\circ}]$, generate the rotation. In our case, our object (with its respective axis) undergoes rotation with the background being fixed (with its respective axis).\n",
    "- Note: Throughout this assignment, we will be using the standard **ZYX** Euler angle convention.\n",
    "- Write a function `two_one` to show the above by **animation** (cube rotating along each axis one by one).\n",
    "    - *Hint: Use Open3D's non-blocking visualization and discretize the rotation to simulate the animation. For example, if you want to rotate by $30^{\\circ}$ around a particular axis, do in increments of $5^{\\circ}$ 6 times to make it look like an animation.*"
   ]
  },
  {
   "cell_type": "code",
   "execution_count": 5,
   "metadata": {},
   "outputs": [],
   "source": [
    "def mesh2pcd_test(triangle_mesh):\n",
    "    pcd = triangle_mesh.sample_points_uniformly(number_of_points = 5000)\n",
    "    return pcd"
   ]
  },
  {
   "cell_type": "code",
   "execution_count": 6,
   "metadata": {},
   "outputs": [],
   "source": [
    "##############################################################################\n",
    "# TODO: Do tasks described in 2.1                                            #\n",
    "##############################################################################\n",
    "# Replace \"pass\" statement with your code\n",
    "\n",
    "\n",
    "# mesh_box = o3d.geometry.TriangleMesh.create_box(width=1.0, height=1.0, depth=1.0)\n",
    "# pcd_box = mesh2pcd(mesh_box)\n",
    "\n",
    "######   Create Cube  ######\n",
    "vec_len = 1.5\n",
    "mesh_arrow = o3d.geometry.TriangleMesh.create_arrow(\n",
    "        cone_height= 0.2 * vec_len, \n",
    "        cone_radius= 0.06 * vec_len, \n",
    "        cylinder_height= 0.8 * vec_len,\n",
    "        cylinder_radius=  0.04 * vec_len\n",
    "        )\n",
    "mesh_arrow.paint_uniform_color([1,0,1])\n",
    "mesh_arrow.compute_vertex_normals()\n",
    "pcd_arrow = mesh2pcd(mesh_arrow)\n",
    "\n",
    "x = np.linspace(-0.5, 0.5, 10)\n",
    "mesh_x, mesh_y, mesh_z = np.meshgrid(x, x, x)\n",
    "xyz = np.zeros((np.size(mesh_x), 3))\n",
    "xyz[:, 0] = np.reshape(mesh_x, -1)\n",
    "xyz[:, 1] = np.reshape(mesh_y, -1)\n",
    "xyz[:, 2] = np.reshape(mesh_z, -1)\n",
    "pcd_box = o3d.geometry.PointCloud()\n",
    "pcd_box.points = o3d.utility.Vector3dVector(xyz)\n",
    "\n",
    "ORIGIN_frameB = pcd_box.get_center()\n",
    "mesh_frameB = o3d.geometry.TriangleMesh.create_coordinate_frame(\n",
    "        size=1, origin=ORIGIN_frameB)\n",
    "\n",
    "mesh_frameB.paint_uniform_color([0.5,0.3,1])\n",
    "pcd_coordinateFrameB = mesh2pcd(mesh_frameB)\n",
    "\n",
    "scene_pcd = o3d.io.read_point_cloud('scene.pcd')\n",
    "# ORIGIN_B = custom_draw_geometry(scene_pcd, True)\n",
    "ORIGIN_B = [218821]\n",
    "# print(ORIGIN_B)\n",
    "assert (len(np.asarray(scene_pcd.points)[ORIGIN_B] >= 3))\n",
    "\n",
    "ORIGIN_B = np.asarray(scene_pcd.points)[ORIGIN_B][0]\n",
    "\n",
    "cube = pcd_box + pcd_coordinateFrameB + pcd_arrow\n",
    "cube.translate(ORIGIN_B)\n",
    "o3d.io.write_point_cloud(\"cube.pcd\", cube)\n",
    "\n",
    "# R = cube.get_rotation_matrix_from_zyx(np.array([np.pi/6,np.pi/2,np.pi/4]))\n",
    "\n",
    "# cube.rotate(R, center = ORIGIN_frameB)\n",
    "\n",
    "cube_pcd = o3d.io.read_point_cloud('cube.pcd')\n",
    "\n",
    "def two_one(cube_pcd = o3d.io.read_point_cloud('cube.pcd'), scene_pcd = o3d.io.read_point_cloud('scene.pcd'), \n",
    "            center = ORIGIN_frameB,\n",
    "            angles_zyx = np.array([np.pi/6, np.pi/2, np.pi/4]), \n",
    "            increment = 0.1*(np.pi/180)):\n",
    "    \n",
    "    frames_per_angle = (angles_zyx/increment).astype('int')\n",
    "    \n",
    "    rot_z = np.cumsum(np.tile(np.array([increment,0,0]),(frames_per_angle[0],1)),axis = 0)\n",
    "    rot_y = np.cumsum(np.tile(np.array([0,increment,0]),(frames_per_angle[1],1)),axis = 0) + np.tile(np.array([angles_zyx[0],0,0]),(frames_per_angle[1],1))\n",
    "    rot_x = np.cumsum(np.tile(np.array([0,0,increment]),(frames_per_angle[2],1)),axis = 0) + np.tile(np.array([angles_zyx[0],angles_zyx[1],0]),(frames_per_angle[2],1))\n",
    "    \n",
    "    rot_list = np.vstack((rot_z,rot_y,rot_x))\n",
    "    \n",
    "    vis = o3d.visualization.Visualizer()\n",
    "    vis.create_window(width = 1280, height = 720)\n",
    "    vis.add_geometry(cube_pcd)\n",
    "    vis.add_geometry(scene_pcd)\n",
    "    prev_angle = np.zeros(3)\n",
    "    \n",
    "    for idx, angle in enumerate(rot_list):\n",
    "        \n",
    "        R_prev = cube_pcd.get_rotation_matrix_from_zyx(prev_angle)\n",
    "        R = cube_pcd.get_rotation_matrix_from_zyx(angle)\n",
    "        prev_angle = angle\n",
    "        cube_pcd.rotate(R_prev.T,center = ORIGIN_B)\n",
    "        cube_pcd.rotate(R,center = ORIGIN_B)\n",
    "\n",
    "        vis.update_geometry(cube_pcd)\n",
    "        \n",
    "        vis.poll_events()\n",
    "        vis.update_renderer()\n",
    "    vis.run() \n",
    "    vis.destroy_window()\n",
    "    del vis\n",
    "##############################################################################\n",
    "#                             END OF YOUR CODE                               #\n",
    "##############################################################################\n"
   ]
  },
  {
   "cell_type": "markdown",
   "metadata": {},
   "source": [
    "### Question for 2.1\n",
    "\n",
    "- In the next code cell, call the function `two_one` here showing the animation described in section 2.1."
   ]
  },
  {
   "cell_type": "code",
   "execution_count": 7,
   "metadata": {},
   "outputs": [],
   "source": [
    "#uncomment the following and add input parameters if any\n",
    "two_one(increment = 0.04*(np.pi/180))"
   ]
  },
  {
   "cell_type": "markdown",
   "metadata": {},
   "source": [
    "## 2.2 Euler angle & Gimbal lock\n",
    "\n",
    "Code the following yourself from scratch (Refer Craig book - Section: $Z-Y-X$ Euler angles - same conventions/notations followed).\n",
    "\n",
    "- Case 1: Given the rotation matrix $M_{given}$ below, extract Euler angles $\\alpha , \\beta ,\\gamma$. Convert it back to the rotation matrix $M_{recovered}$ from Euler angles.\n",
    "\n",
    "    $$M(\\alpha , \\beta ,\\gamma)=\\left[\\begin{array}{rrr}0.26200263 & -0.19674724 & 0.944799 \\\\0.21984631 & 0.96542533 & 0.14007684 \\\\\n",
    "    -0.93969262 & 0.17101007 & 0.29619813\\end{array}\\right] $$\n",
    "\n",
    "    After coding it from scratch, check your calculations using `scipy.spatial.transform.Rotation`. (Mandatory)\n",
    "\n",
    "- Case 2: Given the rotation matrix $N_{given}$, extract Euler angles, and convert back $N_{recovered}$.\n",
    "\n",
    "    $$N(\\alpha , \\beta ,\\gamma)=\\left[\\begin{array}{rrr}0 & -0.173648178 &  0.984807753 \\\\0 & 0.984807753 & 0.173648178 \\\\\n",
    "    -1 & 0 & 0\\end{array}\\right] $$\n",
    "\n",
    "    Again use `scipy` and check its output. If `scipy` is showing any warnings on any of the above cases, explain it in \"**Questions for 2.2**\" (last question). Write code in the next cell.\n",
    "    \n",
    "- (Optional) Case 3: Do the above two for quaternion using scipy functions, i.e. given the rotation matrix, extract quaternion and convert back."
   ]
  },
  {
   "cell_type": "code",
   "execution_count": 8,
   "metadata": {
    "deletable": false,
    "editable": false
   },
   "outputs": [],
   "source": [
    "##############################################################################\n",
    "# DON'T EDIT\n",
    "M_given =  np.array([[0.26200263, -0.19674724, 0.944799],\n",
    "                     [0.21984631, 0.96542533, 0.14007684],\n",
    "                     [-0.93969262, 0.17101007, 0.29619813]])\n",
    "\n",
    "N_given = np.array([[0,-0.173648178,0.984807753],\n",
    "                    [0, 0.984807753, 0.173648178],\n",
    "                    [-1, 0, 0]])"
   ]
  },
  {
   "cell_type": "code",
   "execution_count": 9,
   "metadata": {},
   "outputs": [
    {
     "name": "stdout",
     "output_type": "stream",
     "text": [
      "Case 1\n",
      "\n",
      "Euler Angles:  [0.6981317  1.22173048 0.52359878]\n",
      "\n",
      "M_recovered: \n",
      " [[ 0.26200263 -0.19674724  0.944799  ]\n",
      " [ 0.21984631  0.96542534  0.14007684]\n",
      " [-0.93969262  0.17101007  0.29619813]]\n",
      "\n",
      "Euler Angles from scipy:  [0.69813171 1.22173048 0.52359878]\n",
      "\n",
      "Diffrence in angles wrt scipy:  [-5.33206246e-09 -3.56592400e-09 -8.31095359e-09]\n",
      "\n",
      "M_recovered from scipy: \n",
      " [[ 0.26200263 -0.19674724  0.944799  ]\n",
      " [ 0.21984631  0.96542534  0.14007684]\n",
      " [-0.93969262  0.17101007  0.29619813]]\n",
      "\n",
      "Difference in recovered matrices: \n",
      " [[ 3.73915132e-09 -3.17161308e-09 -1.69737013e-09]\n",
      " [ 7.56884888e-10 -5.07081044e-10  2.30695280e-09]\n",
      " [ 1.21961785e-09 -7.86252702e-10  4.32319730e-09]]\n",
      "\n",
      "\n",
      "Case 2 \n",
      "\n",
      "Euler Angles:  [0.         1.57079633 0.        ]\n",
      "\n",
      "N_recovered: \n",
      " [[ 6.123234e-17  0.000000e+00  1.000000e+00]\n",
      " [ 0.000000e+00  1.000000e+00  0.000000e+00]\n",
      " [-1.000000e+00  0.000000e+00  6.123234e-17]]\n",
      "\n",
      "Euler Angles from scipy:  [0.17453293 1.57079633 0.        ]\n",
      "\n",
      "Diffrence in angles wrt scipy:  [-0.17453293  0.          0.        ]\n",
      "\n",
      "N_recovered from scipy: \n",
      " [[ 1.66533454e-16 -1.73648178e-01  9.84807753e-01]\n",
      " [ 2.77555756e-17  9.84807753e-01  1.73648178e-01]\n",
      " [-1.00000000e+00  0.00000000e+00  1.66533454e-16]]\n",
      "\n",
      "Difference in recovered matrices: \n",
      " [[-1.05301114e-16  1.73648178e-01  1.51922470e-02]\n",
      " [-2.77555756e-17  1.51922470e-02 -1.73648178e-01]\n",
      " [ 0.00000000e+00  0.00000000e+00 -1.05301114e-16]]\n",
      "\n",
      "\n",
      "Case 3 \n",
      "\n",
      "\n",
      "M_Quaternion from scipy:  [0.00973605 0.59313249 0.13112033 0.79429624]\n",
      "\n",
      "M_recovered from scipy: \n",
      " [[ 0.26200263 -0.19674724  0.944799  ]\n",
      " [ 0.21984631  0.96542534  0.14007684]\n",
      " [-0.93969262  0.17101007  0.29619813]]\n",
      "\n",
      "N_Quaternion from scipy:  [-0.06162842  0.70441603  0.06162842  0.70441603]\n",
      "\n",
      "N_recovered from scipy: \n",
      " [[ 0.         -0.17364818  0.98480775]\n",
      " [ 0.          0.98480775  0.17364818]\n",
      " [-1.          0.          0.        ]]\n"
     ]
    },
    {
     "name": "stderr",
     "output_type": "stream",
     "text": [
      "/home/soumyasis/anaconda3/envs/open3d/lib/python3.6/site-packages/scipy/spatial/transform/rotation.py:133: UserWarning: Gimbal lock detected. Setting third angle to zero since it is not possible to uniquely determine all angles.\n",
      "  warnings.warn(\"Gimbal lock detected. Setting third angle to zero since\"\n"
     ]
    }
   ],
   "source": [
    "# TODO: Do tasks described in 2.2                                            #\n",
    "##############################################################################\n",
    "# Replace \"pass\" statement with your code\n",
    "\n",
    "def rotm2eul(R):\n",
    "    beta = np.arctan2(-R[2,0], np.sqrt(R[0,0]**2 + R[1,0]**2))\n",
    "    alpha = np.arctan2(R[1,0]/np.cos(beta), R[0,0]/np.cos(beta))\n",
    "    gamma = np.arctan2(R[2,1]/np.cos(beta), R[2,2]/np.cos(beta))\n",
    "    \n",
    "    return np.array([alpha,beta,gamma])\n",
    "\n",
    "def eul2rotm(angles_zyx):\n",
    "    a = angles_zyx[0]; b = angles_zyx[1]; g = angles_zyx[2]\n",
    "    \n",
    "    R = np.array([\n",
    "        [np.cos(a)*np.cos(b), np.cos(a)*np.sin(b)*np.sin(g)-np.sin(a)*np.cos(g), np.cos(a)*np.sin(b)*np.cos(g)+np.sin(a)*np.sin(g)],\n",
    "        [np.sin(a)*np.cos(b), np.sin(a)*np.sin(b)*np.sin(g)+np.cos(a)*np.cos(g), np.sin(a)*np.sin(b)*np.cos(g)-np.cos(a)*np.sin(g)],\n",
    "        [-np.sin(b), np.cos(b)*np.sin(g), np.cos(b)*np.cos(g)]\n",
    "    ])\n",
    "    \n",
    "    return R\n",
    "\n",
    "### Case 1 ###\n",
    "print('Case 1\\n')\n",
    "\n",
    "M_Euler_angles = rotm2eul(M_given)\n",
    "print('Euler Angles: ', M_Euler_angles)\n",
    "\n",
    "M_recovered = eul2rotm(M_Euler_angles)\n",
    "print('\\nM_recovered: \\n',M_recovered)\n",
    "\n",
    "\n",
    "M_Euler_scipy = Rotation.from_matrix(M_given).as_euler('ZYX')\n",
    "print('\\nEuler Angles from scipy: ',M_Euler_scipy)\n",
    "print('\\nDiffrence in angles wrt scipy: ', M_Euler_angles - M_Euler_scipy)\n",
    "\n",
    "M_recovered_scipy = Rotation.from_euler('ZYX', M_Euler_scipy).as_matrix()\n",
    "print('\\nM_recovered from scipy: \\n',M_recovered_scipy)\n",
    "print('\\nDifference in recovered matrices: \\n', M_recovered - M_recovered_scipy)\n",
    "\n",
    "### Case 2 ###\n",
    "print('\\n\\nCase 2 \\n')\n",
    "\n",
    "N_Euler_angles = rotm2eul(N_given)\n",
    "print('Euler Angles: ', N_Euler_angles)\n",
    "\n",
    "N_recovered = eul2rotm(N_Euler_angles)\n",
    "print('\\nN_recovered: \\n',N_recovered)\n",
    "\n",
    "\n",
    "N_Euler_scipy = Rotation.from_matrix(N_given).as_euler('ZYX')\n",
    "print('\\nEuler Angles from scipy: ',N_Euler_scipy)\n",
    "print('\\nDiffrence in angles wrt scipy: ', N_Euler_angles - N_Euler_scipy)\n",
    "\n",
    "N_recovered_scipy = Rotation.from_euler('ZYX', N_Euler_scipy).as_matrix()\n",
    "print('\\nN_recovered from scipy: \\n',N_recovered_scipy)\n",
    "print('\\nDifference in recovered matrices: \\n', N_recovered - N_recovered_scipy)\n",
    "\n",
    "\n",
    "### Case 3 ###\n",
    "print('\\n\\nCase 3 \\n')\n",
    "\n",
    "M_quat_scipy = Rotation.from_matrix(M_given).as_quat()\n",
    "print('\\nM_Quaternion from scipy: ',M_quat_scipy)\n",
    "\n",
    "M_recovered_quat_scipy = Rotation.from_quat(M_quat_scipy).as_matrix()\n",
    "print('\\nM_recovered from scipy: \\n',M_recovered_quat_scipy)\n",
    "\n",
    "N_quat_scipy = Rotation.from_matrix(N_given).as_quat()\n",
    "print('\\nN_Quaternion from scipy: ',N_quat_scipy)\n",
    "\n",
    "N_recovered_quat_scipy = Rotation.from_quat(N_quat_scipy).as_matrix()\n",
    "print('\\nN_recovered from scipy: \\n',N_recovered_quat_scipy)\n",
    "##############################################################################\n",
    "#                             END OF YOUR CODE                               #\n",
    "##############################################################################"
   ]
  },
  {
   "cell_type": "markdown",
   "metadata": {},
   "source": [
    "## Questions for 2.2\n",
    "- Have you used `np.arctan` or an any equivalent `atan` function above? Why or why not?   \n",
    "    * Ans: *Yes, we have used np.arctan2 to determine uniquely the euler angles for rotation matrix because it also stores information about the quadrant the angle belongs to.*"
   ]
  },
  {
   "cell_type": "markdown",
   "metadata": {},
   "source": [
    "### For Case 1 above,\n",
    "- What Euler angles  $\\alpha , \\beta ,\\gamma$ did you get? Replace `my_array_case1` with your array."
   ]
  },
  {
   "cell_type": "code",
   "execution_count": 10,
   "metadata": {},
   "outputs": [
    {
     "name": "stdout",
     "output_type": "stream",
     "text": [
      "My Euler angles for case 1 are [0.6981317  1.22173048 0.52359878]\n"
     ]
    }
   ],
   "source": [
    "# Uncomment and replace my_array_case1 with your array.\n",
    "\n",
    "print(\"My Euler angles for case 1 are \" + str(M_Euler_angles))"
   ]
  },
  {
   "cell_type": "markdown",
   "metadata": {},
   "source": [
    "  - Were you able to recover back your rotation matrix when you converted it from Euler angles? Why/why not? Replace `M_given` and `M_recovered` with your matrices below and explain \"why/why not\" after this code snippet."
   ]
  },
  {
   "cell_type": "code",
   "execution_count": 11,
   "metadata": {},
   "outputs": [
    {
     "name": "stdout",
     "output_type": "stream",
     "text": [
      "For case 1, it is True I could recover the original matrix.\n"
     ]
    }
   ],
   "source": [
    "# Uncomment and Replace M_given and M_recovered with your matrices below.\n",
    "error = np.linalg.norm(logm(M_given @ M_recovered.T))\n",
    "print(\"For case 1, it is \" + str(error<0.0001) + \" I could recover the original matrix.\")"
   ]
  },
  {
   "cell_type": "markdown",
   "metadata": {},
   "source": [
    "- Why/why not? Based on your observations here, is there any problem with Euler angle representation for Case 1? If yes, what is it?\n",
    "\n",
    "    - Ans:    *No Gimbal Lock is present so euler angle rotation can work.*"
   ]
  },
  {
   "cell_type": "markdown",
   "metadata": {},
   "source": [
    "### Repeat the above for Case 2."
   ]
  },
  {
   "cell_type": "code",
   "execution_count": 12,
   "metadata": {},
   "outputs": [
    {
     "name": "stdout",
     "output_type": "stream",
     "text": [
      "My Euler angles for case 2 are [0.         1.57079633 0.        ]\n",
      "For case 2, it is False I could recover the original matrix.\n"
     ]
    }
   ],
   "source": [
    "# Uncomment and Replace N_given and N_recovered with your matrices below.\n",
    "print(\"My Euler angles for case 2 are \" + str(N_Euler_angles))\n",
    "error = np.linalg.norm(logm(N_given @ N_recovered.T))\n",
    "print(\"For case 2, it is \" + str(error<0.0001) + \" I could recover the original matrix.\")"
   ]
  },
  {
   "cell_type": "markdown",
   "metadata": {},
   "source": [
    "* Why/why not? Based on your observations here, is there any problem with Euler angle representation for Case 2? If yes, what is it?\n",
    "\n",
    "    * Ans: *Here Gimbal Lock is present. So in Euler representation rotation about z and x axis coincide.*\n",
    "    \n",
    "    \n",
    "* Explain any more problems with Euler angle representation. Explain what you understand by Gimbal lock (concisely in your own words). You could revisit this question in the section 2.4.\n",
    "    * Ans: *Quaternion is a 4D representation which represents 3D rotation, that’s why it is sufficient to avoid any ambiguities, while euler is 3D representation and the gimbal lock ambiguity cannot be removed in this representation.*\n",
    "    * *Gimbal lock is the loss of one degree of freedom in a three-dimensional space that occurs when the axes of two of the three gimbals are driven into a parallel configuration, \"locking\" the system into rotation in a degenerate two-dimensional space.*"
   ]
  },
  {
   "cell_type": "markdown",
   "metadata": {},
   "source": [
    "- When you used `scipy.spatial.transform.Rotation` for the above 2 cases,\n",
    "    - Have you used `zyx` above in `r.as_euler('')` argument? Why or why not? Explain the difference between extrinsic and instrinsic rotations with equivalent technical names from Craig book?\n",
    "        * Ans: *No we used 'ZYX' notation which is Intrinsic Rotation. Extrinsic means the original coordinate system remains motionless as the rotations go. Intrinsic means the rotation is always based on the rotating coordinate system which is solidary with the moving object.*\n",
    "    - Has `scipy` shown any warnings on any of the above cases? If yes, explain it.\n",
    "        * Ans: *For Case 2, Scipy shows Gimbal Lock Warning because $\\beta$ is 90 degrees*\n",
    "    - (Optional) For Case 3 above (quaternion) which you did using scipy, did you observe any problem with quaternion? Depending on your observations, which is better? Quaternion or Euler angles? And why?\n",
    "         * Ans: *No we didn't observe any problem with quarternion. Quarternion is better because it is a 4D representation which represents 3D rotation, that’s why it is sufficient to avoid any ambiguities, while euler is 3D representation and the gimbal lock ambiguity cannot be removed in this representation.*\n"
   ]
  },
  {
   "cell_type": "markdown",
   "metadata": {},
   "source": [
    "## 2.3 Rotation matrix as an Operator\n",
    "This question will help you in your understanding of [Rotator-transform (Vector-frame) equivalence](https://www.notion.so/saishubodh/Lecture-2-Transformations-11d69d8cef2d4cd195a98fa7d33224e1#f90ece4f5e374743bfed47e46a83ecfe).\n",
    "\n",
    "![image.png](./misc/xyz-frame.png)\n",
    "Consider the frame $XYZ$ in the above image. Say you have a vector $x_1=[0,\\sqrt{3},0]$. Now you want to rotate it such that you end up at $x_2=[1,1,1]$ through a sequence of Euler angle rotations. Your goal is to find out those $\\alpha, \\beta \\: \\& \\: \\gamma$ ($ZYX$). We will follow this order whenever we refer to it below.\n",
    "\n",
    "First, properly understand the so-called \"Rotator-transform equivalence\" to figure out what are the terms of rotation matrix. Then, put the math on paper and you will end up with a set of non-linear equations. Write the set of linear equations in LaTeX here:"
   ]
  },
  {
   "cell_type": "markdown",
   "metadata": {},
   "source": [
    "$$ \\text{Ans: For two vectors $\\overrightarrow{\\textbf{x}_{1}}$ and $\\overrightarrow{\\textbf{x}_{2}}$}\\newline\n",
    "\\begin{bmatrix} \n",
    "cos(\\alpha)cos(\\beta) & cos(\\alpha)sin(\\beta)sin(\\gamma)-sin(\\alpha)cos(\\gamma) & cos(\\alpha)sin(\\beta)cos(\\gamma)-sin(\\alpha)sin(\\gamma) \\\\\n",
    "sin(\\alpha)cos(\\beta) & sin(\\alpha)sin(\\beta)sin(\\gamma)-cos(\\alpha)cos(\\gamma) & sin(\\alpha)sin(\\beta)cos(\\gamma)-cos(\\alpha)sin(\\gamma)\\\\\n",
    "-sin(\\beta) & cos(\\beta)sin(\\gamma) & cos(\\beta)cos(\\gamma) \\\\\n",
    "\\end{bmatrix}\n",
    "\\begin{bmatrix}\n",
    "x_{11}\\\\\n",
    "x_{12}\\\\\n",
    "x_{13}\n",
    "\\end{bmatrix} - \\begin{bmatrix}\n",
    "x_{21}\\\\\n",
    "x_{22}\\\\\n",
    "x_{23}\n",
    "\\end{bmatrix} = \n",
    "\\begin{bmatrix}\n",
    "0\\\\\n",
    "0\\\\\n",
    "0\n",
    "\\end{bmatrix}$$"
   ]
  },
  {
   "cell_type": "markdown",
   "metadata": {},
   "source": [
    "Solve these equations using `fsolve` from `scipy.optimize` as follows: (Come back and answer the following questions after coding it in the next block)\n",
    "- `case1`: First, solve it with an initialization of (0,0,0). Check if your answer is correct using `np.isclose`.\n",
    "    * What Euler angles did you get? Answer in $\\alpha, \\beta \\: \\& \\: \\gamma$ format:\n",
    "        * Ans: *$a_1, b_1, c_1$ = your answer here.* \n",
    "- `case2`: Now, forget about the solver for a moment: Can you visualize and think of sequence of rotations one by one to reach the final position (which is different than previous set of rotations)? Now, validate your answer by giving (your answer $\\pm 5$) as initialization.\n",
    "    * What Euler angles did you get? Answer in $\\alpha, \\beta \\: \\& \\: \\gamma$ format:\n",
    "        * Ans: *$a_2, b_2, c_2$ = your answer here.*"
   ]
  },
  {
   "cell_type": "code",
   "execution_count": 13,
   "metadata": {
    "deletable": false,
    "editable": false
   },
   "outputs": [],
   "source": [
    "##############################################################################\n",
    "# DON'T EDIT\n",
    "x_1 = np.array([0,np.sqrt(3),0])\n",
    "x_2 = np.array([1,1,1])"
   ]
  },
  {
   "cell_type": "code",
   "execution_count": 14,
   "metadata": {},
   "outputs": [
    {
     "name": "stdout",
     "output_type": "stream",
     "text": [
      "a1 ,b1, c1 =  -0.32906483821879123 -93.69048524478949 0.7481509761190938\n",
      "a2 ,b2, c2 =  -0.7853981633974483 0.0 0.6154797086703873\n"
     ]
    }
   ],
   "source": [
    "##############################################################################\n",
    "# TODO: Do tasks described in 2.3                                            #\n",
    "##############################################################################\n",
    "# Replace \"pass\" statement with your code\n",
    "\n",
    "def func(angles_zyx):\n",
    "    return np.squeeze(np.matmul(eul2rotm(angles_zyx),x_1[:,None]) - np.array(x_2[:,None]))\n",
    "\n",
    "a1,b1,c1 = fsolve(func, [0.,0.,0.])\n",
    "a2,b2,c2 = fsolve(func, [-np.pi/4 ,0, np.arctan2(1,np.sqrt(2))])\n",
    "print('a1 ,b1, c1 = ',a1, b1, c1)\n",
    "print('a2 ,b2, c2 = ',a2, b2, c2)\n",
    "##############################################################################\n",
    "#                             END OF YOUR CODE                               #\n",
    "##############################################################################"
   ]
  },
  {
   "cell_type": "code",
   "execution_count": 15,
   "metadata": {},
   "outputs": [],
   "source": [
    "# From Section 2.2, use the function which takes Euler angles and gives Rotation matrix as output.\n",
    "# Uncomment and replace `r_mat` with the name of the function. (Do NOT edit anything else)\n",
    "\n",
    "x_2_obtained_case1 = eul2rotm([a1,b1,c1]) @ x_1.T #TODO: replace r_mat\n",
    "x_2_obtained_case2 = eul2rotm([a2,b2,c2]) @ x_1.T #TODO: replace r_mat\n",
    "test = True #TODO: Set this as True"
   ]
  },
  {
   "cell_type": "code",
   "execution_count": 16,
   "metadata": {},
   "outputs": [
    {
     "name": "stdout",
     "output_type": "stream",
     "text": [
      "For case 1, it is True that I could end up at (1,1,1) after rotation.\n",
      "For case 2, it is True that I could end up at (1,1,1) after rotation.\n"
     ]
    }
   ],
   "source": [
    "# DON'T EDIT\n",
    "if test == True:\n",
    "    case1_test = np.isclose(x_2_obtained_case1,  np.array([1.0,1.0,1.0]))\n",
    "    case2_test = np.isclose(x_2_obtained_case2,  np.array([1.0,1.0,1.0]))\n",
    "    print(\"For case 1, it is \" + str(bool(case1_test[0] and case1_test[1] and case1_test[2])) + \n",
    "          \" that I could end up at (1,1,1) after rotation.\")\n",
    "    print(\"For case 2, it is \" + str(bool(case2_test[0] and case2_test[1] and case2_test[2])) + \n",
    "          \" that I could end up at (1,1,1) after rotation.\")"
   ]
  },
  {
   "cell_type": "markdown",
   "metadata": {},
   "source": [
    "## 2.4 Gimbal Lock visualization (Optional)\n",
    "\n",
    "A nice visualization video for gimbal lock is [this](https://www.youtube.com/watch?v=zc8b2Jo7mno). You are about to animate a similar visualization demonstrating gimbal lock 😃.\n",
    "\n",
    "![image.png](./misc/xyz-frame.png)\n",
    "\n",
    "- Write a function `two_four` for the visualization of gimbal lock. Follow the below steps to get the intuition going. Use Open3D for the following.\n",
    "    - Say our frame's initial position is as the above image. Now the final goal at the end of rotation is to get the $Y$ axis pointing in the direction of the vector $(x,y,z)$ that you currently see in the above image. This point is fixed in space and is NOT moving as we rotate our axis.\n",
    "    - For creating that point, you could use a small sphere using `open3d.geometry.create_mesh_sphere`. You already know how to create an axis by now.\n",
    "    - Following our $ZYX$ convention, first rotate your frame about $Z$ axis by an angle, say $-35^{\\circ}$. Then rotate about $Y$ axis by an angle ${\\beta}$ and then about $X$ by say $55^{\\circ}$.\n",
    "        - Are there any specific angle(s) $\\beta$ using which you will **never** reach our point $(x,y,z)$ ?\n",
    "            - Clue: We are specifically talking about gimbal lock here and notice the word \"never\".\n",
    "        - Under this (these) specific angle(s) of $\\beta$ & different combinations of $\\alpha$ and $\\gamma$, make an animation and clearly show why your $Y$ axis is unable to align in the direction of that vector $(x,y,z)$ using the animation.\n",
    "\n",
    "            If you are unsure to simulate the animation, you could do it as follows:\n",
    "\n",
    "            - You could first fix some $\\alpha$, say $-35^{\\circ}$ & an above value of $\\beta$, you can now vary $\\gamma$ from $-180^{\\circ} \\text{ to }180^{\\circ}$ to simulate the animation.\n",
    "            - Now fix another $\\alpha$, say $45^{\\circ}$ and repeat the above process. So that's 2 specific values of $\\alpha$.\n",
    "            - Show this for all angles of $\\beta$ if there are more than 1.\n",
    "            - Therefore, when the code is run, there should be a minimum of (2 $\\times$ (number of values of $\\beta$)) animations. 2 for values of $\\alpha$, you could show it for even more if you wish to."
   ]
  },
  {
   "cell_type": "code",
   "execution_count": 17,
   "metadata": {},
   "outputs": [],
   "source": [
    "##############################################################################\n",
    "# TODO: Do tasks described in 2.4                                            #\n",
    "##############################################################################\n",
    "# Replace \"pass\" statement with your code\n",
    "\n",
    "def two_four(alpha = [0,-35], beta = [0,90], gamma = [0,360], degrees = True, increment = 0.5):\n",
    "    \n",
    "    ORIGIN = [0,0,0]\n",
    "    point_loc = [1,1,1]\n",
    "\n",
    "    mesh_frame = o3d.geometry.TriangleMesh.create_coordinate_frame(\n",
    "            size=np.sqrt(3), origin=ORIGIN)\n",
    "    mesh_frame1 = o3d.geometry.TriangleMesh.create_coordinate_frame(\n",
    "            size=np.sqrt(3), origin=ORIGIN)\n",
    "    mesh_sphere = o3d.geometry.TriangleMesh.create_sphere(radius = 0.08).translate(point_loc)\n",
    "    mesh_sphere1 = o3d.geometry.TriangleMesh.create_sphere(radius = 0.08).translate([0,np.sqrt(3),0])\n",
    "    mesh_sphere2 = o3d.geometry.TriangleMesh.create_sphere(radius = 0.08).translate([np.sqrt(1.5),np.sqrt(1.5),0])\n",
    "    mesh_sphere3 = o3d.geometry.TriangleMesh.create_sphere(radius = 0.08).translate([0,np.sqrt(2),1])\n",
    "    \n",
    "    mesh_sphere.paint_uniform_color([0.5,0.3,1])\n",
    "    mesh_frame1.paint_uniform_color([0.5,0.3,1])\n",
    "\n",
    "    if(degrees):\n",
    "        alpha_range = np.array(alpha)*(np.pi/180)\n",
    "        beta_range = np.array(beta)*(np.pi/180)\n",
    "        gamma_range = np.array(gamma)*(np.pi/180)\n",
    "    else:\n",
    "        alpha_range = np.array(alpha)\n",
    "        beta_range = np.array(beta)\n",
    "    #     gamma_range = np.array([0,np.arctan2(1,np.sqrt(2))])\n",
    "        gamma_range = np.array(gamma)\n",
    "\n",
    "    R_init = mesh_frame.get_rotation_matrix_from_zyx((alpha_range[0],beta_range[0],gamma_range[0]))\n",
    "    mesh_frame.rotate(R_init, center = ORIGIN)\n",
    "\n",
    "    angles_zyx = np.vstack((alpha_range,beta_range,gamma_range))\n",
    "    angles_zyx = angles_zyx[:,1] - angles_zyx[:,0]\n",
    "    increment = increment*(np.pi/180)\n",
    "\n",
    "    frames_per_angle = (angles_zyx/increment).astype('int')\n",
    "    direction = 2*(frames_per_angle >= 0) - 1\n",
    "    frames_per_angle = np.abs(frames_per_angle)\n",
    "    \n",
    "    rot_z = np.cumsum(np.tile(direction[0]*np.array([increment,0,0]),(frames_per_angle[0],1)),axis = 0)\n",
    "    rot_y = np.cumsum(np.tile(direction[1]*np.array([0,increment,0]),(frames_per_angle[1],1)),axis = 0) + np.tile(np.array([angles_zyx[0],0,0]),(frames_per_angle[1],1))\n",
    "    rot_x = np.cumsum(np.tile(direction[2]*np.array([0,0,increment]),(frames_per_angle[2],1)),axis = 0) + np.tile(np.array([angles_zyx[0],angles_zyx[1],0]),(frames_per_angle[2],1))\n",
    "    \n",
    "    rot_list = np.vstack((rot_z,rot_y,rot_x))\n",
    "    \n",
    "    vis = o3d.visualization.Visualizer()\n",
    "    vis.create_window(width = 1280, height = 720)\n",
    "    vis.add_geometry(mesh_frame)\n",
    "    vis.add_geometry(mesh_sphere)\n",
    "#     vis.add_geometry(mesh_sphere1)\n",
    "#     vis.add_geometry(mesh_sphere2)\n",
    "#     vis.add_geometry(mesh_sphere3)\n",
    "    vis.add_geometry(mesh_frame1)\n",
    "    prev_angle = np.zeros(3)\n",
    "    \n",
    "    for angle in rot_list:\n",
    "        \n",
    "        R_prev = mesh_frame.get_rotation_matrix_from_zyx(prev_angle)\n",
    "        R = mesh_frame.get_rotation_matrix_from_zyx(angle)\n",
    "        prev_angle = angle\n",
    "        mesh_frame.rotate(R_prev.T,center = ORIGIN)\n",
    "        mesh_frame.rotate(R,center = ORIGIN)\n",
    "\n",
    "        vis.update_geometry(mesh_frame)\n",
    "        vis.poll_events()\n",
    "        vis.update_renderer()\n",
    "    vis.run() \n",
    "    vis.destroy_window()\n",
    "\n",
    "\n",
    "\n",
    "\n",
    "\n",
    "##############################################################################\n",
    "#                             END OF YOUR CODE                               #\n",
    "##############################################################################"
   ]
  },
  {
   "cell_type": "markdown",
   "metadata": {},
   "source": [
    "> VOILA! You have just animated the famous Gimbal lock problem. If you are curious, read about the [Apollo 11](https://en.wikipedia.org/wiki/Gimbal_lock#On_Apollo_11) Gimbal lock incident.\n",
    "\n",
    "### Questions for 2.4 (Optional)\n",
    "\n",
    "- Mention the value(s) of $\\beta$ here: \n",
    "    * Ans: $$\\pm\\frac{\\pi}{2}\\:radians$$ \n",
    "- Now that you understand gimbal lock through visualization, explain it now in matrix form: For the above values of $\\beta$, what does the rotation matrix look like? Can you explain why gimbal lock occurs from the rotation matrix alone? Clue: Use sin/cos formulae. \n",
    "    * Ans: *$$ \\text{The Rotation matrix for $\\beta = \\frac{\\pi}{2}$ radians will be}\\newline\n",
    "\\begin{bmatrix} \n",
    "0 & cos(\\alpha)sin(\\gamma)-sin(\\alpha)cos(\\gamma) & cos(\\alpha)cos(\\gamma)-sin(\\alpha)sin(\\gamma) \\\\\n",
    "0 & sin(\\alpha)sin(\\gamma)-cos(\\alpha)cos(\\gamma) & sin(\\alpha)cos(\\gamma)-cos(\\alpha)sin(\\gamma)\\\\\n",
    "-1 & 0 & 0 \\\\\n",
    "\\end{bmatrix} = \\begin{bmatrix} \n",
    "0 & sin(\\gamma-\\alpha) & cos(\\alpha+\\gamma) \\\\\n",
    "0 & -cos(\\alpha+\\gamma) & sin(\\alpha-\\gamma)\\\\\n",
    "-1 & 0 & 0 \\\\\n",
    "\\end{bmatrix}\\newline$$*\n",
    "* *This clearly shows that the 3D rotation sequence has degenerated into a rotation in only 2 planes. This is the Gimbal Lock problem*\n",
    "- Call the function `two_four` for the visualization of gimbal lock written above. "
   ]
  },
  {
   "cell_type": "code",
   "execution_count": 18,
   "metadata": {},
   "outputs": [],
   "source": [
    "#uncomment the following and add input parameters if any\n",
    "two_four([0,-35],[0,90], increment =0.04)\n",
    "two_four([0,-35],[0,-90], increment =0.04)\n",
    "# two_four([0,np.pi/4],[0,0],[0,np.arctan2(1,np.sqrt(2))],degrees = False)\n",
    "two_four([0,45],[0,-90], increment =0.04)\n",
    "two_four([0,a2],[0,b2],[0,c2], False, increment =0.04)"
   ]
  }
 ],
 "metadata": {
  "celltoolbar": "Edit Metadata",
  "kernelspec": {
   "display_name": "Python 3",
   "language": "python",
   "name": "python3"
  },
  "language_info": {
   "codemirror_mode": {
    "name": "ipython",
    "version": 3
   },
   "file_extension": ".py",
   "mimetype": "text/x-python",
   "name": "python",
   "nbconvert_exporter": "python",
   "pygments_lexer": "ipython3",
   "version": "3.6.10"
  }
 },
 "nbformat": 4,
 "nbformat_minor": 4
}
